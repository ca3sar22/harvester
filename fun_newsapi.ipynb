{
 "cells": [
  {
   "cell_type": "code",
   "execution_count": 1,
   "id": "further-assurance",
   "metadata": {},
   "outputs": [],
   "source": [
    "import requests\n",
    "import pandas as pd\n",
    "from datetime import datetime\n",
    "from tqdm.notebook import tqdm\n",
    "from functools import reduce"
   ]
  },
  {
   "cell_type": "code",
   "execution_count": 7,
   "id": "historical-state",
   "metadata": {},
   "outputs": [],
   "source": [
    "\n",
    "def getSources():\n",
    "    source_url = 'https://newsapi.org/v1/sources?language=en'\n",
    "    response = requests.get(source_url).json()\n",
    "    sources = []\n",
    "    for source in response['sources']:\n",
    "        sources.append(source['id'])\n",
    "    return sources"
   ]
  },
  {
   "cell_type": "code",
   "execution_count": 8,
   "id": "funky-speaking",
   "metadata": {},
   "outputs": [],
   "source": [
    "def mapping():\n",
    "    d = {}\n",
    "    response = requests.get('https://newsapi.org/v1/sources?language=en')\n",
    "    response = response.json()\n",
    "    for s in response['sources']:\n",
    "        d[s['id']] = s['category']\n",
    "    return d\n",
    "\n"
   ]
  },
  {
   "cell_type": "code",
   "execution_count": 9,
   "id": "general-fossil",
   "metadata": {},
   "outputs": [],
   "source": [
    "def category(source, m):\n",
    "    try:\n",
    "        return m[source]\n",
    "    except:\n",
    "        return 'NC'\n",
    "\n"
   ]
  },
  {
   "cell_type": "code",
   "execution_count": 10,
   "id": "tough-above",
   "metadata": {},
   "outputs": [],
   "source": [
    "def getDailyNews():\n",
    "    sources = getSources()\n",
    "    key = '52e22219a99b493298aa873d855fe6d9'\n",
    "    url = 'https://newsapi.org/v1/articles?source={0}&sortBy={1}&apiKey={2}'\n",
    "    responses = []\n",
    "    for i, source in tqdm(enumerate(sources), total=len(sources)):\n",
    "        \n",
    "        try:\n",
    "            u = url.format(source, 'top', key)\n",
    "        except:\n",
    "            u = url.format(source, 'latest', key)\n",
    "        \n",
    "        response = requests.get(u)\n",
    "        r = response.json()\n",
    "        try:\n",
    "            for article in r['articles']:\n",
    "                article['source'] = source\n",
    "            responses.append(r)\n",
    "        except:\n",
    "            print('Rate limit exceeded ... please wait and retry in 6 hours')\n",
    "            return None\n",
    "                \n",
    "    articles = list(map(lambda r: r['articles'], responses))\n",
    "    articles = list(reduce(lambda x,y: x+y, articles))\n",
    "    \n",
    "    news = pd.DataFrame(articles)\n",
    "    news = news.dropna()\n",
    "    news = news.drop_duplicates()\n",
    "    news.reset_index(inplace=True, drop=True)\n",
    "    d = mapping()\n",
    "    news['category'] = news['source'].map(lambda s: category(s, d))\n",
    "    news['scraping_date'] = datetime.now()\n",
    "\n",
    "    try:\n",
    "        aux = pd.read_csv('C:/Users/Goldy/OneDrive/Desktop/datasets/news.csv')\n",
    "        aux = aux.append(news)\n",
    "        aux = aux.drop_duplicates('url')\n",
    "        aux.reset_index(inplace=True, drop=True)\n",
    "        aux.to_csv('C:/Users/Goldy/OneDrive/Desktop/datasets/news.csv', encoding='utf-8', index=False)\n",
    "    except:\n",
    "        news.to_csv('C:/Users/Goldy/OneDrive/Desktop/datasets/news.csv', index=False, encoding='utf-8')\n",
    "        \n",
    "    print('Done')\n",
    "    \n"
   ]
  },
  {
   "cell_type": "code",
   "execution_count": 11,
   "id": "analyzed-opposition",
   "metadata": {},
   "outputs": [
    {
     "data": {
      "application/vnd.jupyter.widget-view+json": {
       "model_id": "59cf47422e5148c4858a49a72918b8cb",
       "version_major": 2,
       "version_minor": 0
      },
      "text/plain": [
       "  0%|          | 0/51 [00:00<?, ?it/s]"
      ]
     },
     "metadata": {},
     "output_type": "display_data"
    },
    {
     "name": "stdout",
     "output_type": "stream",
     "text": [
      "Done\n"
     ]
    }
   ],
   "source": [
    "getDailyNews()"
   ]
  },
  {
   "cell_type": "code",
   "execution_count": 12,
   "id": "organizational-coupon",
   "metadata": {},
   "outputs": [],
   "source": [
    "data = pd.read_csv('C:/Users/Goldy/OneDrive/Desktop/datasets/news.csv')"
   ]
  },
  {
   "cell_type": "code",
   "execution_count": 13,
   "id": "liable-therapy",
   "metadata": {},
   "outputs": [
    {
     "data": {
      "text/html": [
       "<div>\n",
       "<style scoped>\n",
       "    .dataframe tbody tr th:only-of-type {\n",
       "        vertical-align: middle;\n",
       "    }\n",
       "\n",
       "    .dataframe tbody tr th {\n",
       "        vertical-align: top;\n",
       "    }\n",
       "\n",
       "    .dataframe thead th {\n",
       "        text-align: right;\n",
       "    }\n",
       "</style>\n",
       "<table border=\"1\" class=\"dataframe\">\n",
       "  <thead>\n",
       "    <tr style=\"text-align: right;\">\n",
       "      <th></th>\n",
       "      <th>author</th>\n",
       "      <th>title</th>\n",
       "      <th>description</th>\n",
       "      <th>url</th>\n",
       "      <th>urlToImage</th>\n",
       "      <th>publishedAt</th>\n",
       "      <th>source</th>\n",
       "      <th>category</th>\n",
       "      <th>scraping_date</th>\n",
       "    </tr>\n",
       "  </thead>\n",
       "  <tbody>\n",
       "    <tr>\n",
       "      <th>0</th>\n",
       "      <td>ABC News</td>\n",
       "      <td>Japan wins fifth straight Asia World Cup Group...</td>\n",
       "      <td>The Socceroos' traditional continental rivals ...</td>\n",
       "      <td>http://www.abc.net.au/news/2021-03-31/japan-ro...</td>\n",
       "      <td>https://live-production.wcms.abc-cdn.net.au/6e...</td>\n",
       "      <td>2021-03-30T22:00:11Z</td>\n",
       "      <td>abc-news-au</td>\n",
       "      <td>general</td>\n",
       "      <td>2021-03-31 13:53:27.159658</td>\n",
       "    </tr>\n",
       "    <tr>\n",
       "      <th>1</th>\n",
       "      <td>Jesse Thompson, Kate Ashton</td>\n",
       "      <td>Push to close Kakadu's Gunlom Falls site as Pa...</td>\n",
       "      <td>A powerful land council is urged to call a spe...</td>\n",
       "      <td>http://www.abc.net.au/news/2021-03-31/push-to-...</td>\n",
       "      <td>https://live-production.wcms.abc-cdn.net.au/df...</td>\n",
       "      <td>2021-03-30T21:55:07Z</td>\n",
       "      <td>abc-news-au</td>\n",
       "      <td>general</td>\n",
       "      <td>2021-03-31 13:53:27.159658</td>\n",
       "    </tr>\n",
       "    <tr>\n",
       "      <th>2</th>\n",
       "      <td>Daniel Smith, Kelsie Iorio</td>\n",
       "      <td>COVID live updates: New Queensland coronavirus...</td>\n",
       "      <td>At least a dozen new COVID-exposed locations h...</td>\n",
       "      <td>http://www.abc.net.au/news/2021-03-31/covid-li...</td>\n",
       "      <td>https://live-production.wcms.abc-cdn.net.au/57...</td>\n",
       "      <td>2021-03-30T21:44:21Z</td>\n",
       "      <td>abc-news-au</td>\n",
       "      <td>general</td>\n",
       "      <td>2021-03-31 13:53:27.159658</td>\n",
       "    </tr>\n",
       "    <tr>\n",
       "      <th>3</th>\n",
       "      <td>Felicity James</td>\n",
       "      <td>Santos and partners investing $4.7 billion to ...</td>\n",
       "      <td>Energy giant Santos will pour $4.7 billion int...</td>\n",
       "      <td>http://www.abc.net.au/news/2021-03-31/santos-c...</td>\n",
       "      <td>https://live-production.wcms.abc-cdn.net.au/8c...</td>\n",
       "      <td>2021-03-30T21:31:52Z</td>\n",
       "      <td>abc-news-au</td>\n",
       "      <td>general</td>\n",
       "      <td>2021-03-31 13:53:27.159658</td>\n",
       "    </tr>\n",
       "    <tr>\n",
       "      <th>4</th>\n",
       "      <td>ABC News</td>\n",
       "      <td>Child unknowingly tweets from US nuclear comma...</td>\n",
       "      <td>Is \"l;;gmlxzssaw\" a US nuclear launch code? Is...</td>\n",
       "      <td>http://www.abc.net.au/news/2021-03-31/child-un...</td>\n",
       "      <td>https://live-production.wcms.abc-cdn.net.au/53...</td>\n",
       "      <td>2021-03-30T21:15:34Z</td>\n",
       "      <td>abc-news-au</td>\n",
       "      <td>general</td>\n",
       "      <td>2021-03-31 13:53:27.159658</td>\n",
       "    </tr>\n",
       "  </tbody>\n",
       "</table>\n",
       "</div>"
      ],
      "text/plain": [
       "                        author  \\\n",
       "0                     ABC News   \n",
       "1  Jesse Thompson, Kate Ashton   \n",
       "2   Daniel Smith, Kelsie Iorio   \n",
       "3               Felicity James   \n",
       "4                     ABC News   \n",
       "\n",
       "                                               title  \\\n",
       "0  Japan wins fifth straight Asia World Cup Group...   \n",
       "1  Push to close Kakadu's Gunlom Falls site as Pa...   \n",
       "2  COVID live updates: New Queensland coronavirus...   \n",
       "3  Santos and partners investing $4.7 billion to ...   \n",
       "4  Child unknowingly tweets from US nuclear comma...   \n",
       "\n",
       "                                         description  \\\n",
       "0  The Socceroos' traditional continental rivals ...   \n",
       "1  A powerful land council is urged to call a spe...   \n",
       "2  At least a dozen new COVID-exposed locations h...   \n",
       "3  Energy giant Santos will pour $4.7 billion int...   \n",
       "4  Is \"l;;gmlxzssaw\" a US nuclear launch code? Is...   \n",
       "\n",
       "                                                 url  \\\n",
       "0  http://www.abc.net.au/news/2021-03-31/japan-ro...   \n",
       "1  http://www.abc.net.au/news/2021-03-31/push-to-...   \n",
       "2  http://www.abc.net.au/news/2021-03-31/covid-li...   \n",
       "3  http://www.abc.net.au/news/2021-03-31/santos-c...   \n",
       "4  http://www.abc.net.au/news/2021-03-31/child-un...   \n",
       "\n",
       "                                          urlToImage           publishedAt  \\\n",
       "0  https://live-production.wcms.abc-cdn.net.au/6e...  2021-03-30T22:00:11Z   \n",
       "1  https://live-production.wcms.abc-cdn.net.au/df...  2021-03-30T21:55:07Z   \n",
       "2  https://live-production.wcms.abc-cdn.net.au/57...  2021-03-30T21:44:21Z   \n",
       "3  https://live-production.wcms.abc-cdn.net.au/8c...  2021-03-30T21:31:52Z   \n",
       "4  https://live-production.wcms.abc-cdn.net.au/53...  2021-03-30T21:15:34Z   \n",
       "\n",
       "        source category               scraping_date  \n",
       "0  abc-news-au  general  2021-03-31 13:53:27.159658  \n",
       "1  abc-news-au  general  2021-03-31 13:53:27.159658  \n",
       "2  abc-news-au  general  2021-03-31 13:53:27.159658  \n",
       "3  abc-news-au  general  2021-03-31 13:53:27.159658  \n",
       "4  abc-news-au  general  2021-03-31 13:53:27.159658  "
      ]
     },
     "execution_count": 13,
     "metadata": {},
     "output_type": "execute_result"
    }
   ],
   "source": [
    "data.head()"
   ]
  },
  {
   "cell_type": "code",
   "execution_count": 14,
   "id": "graphic-thickness",
   "metadata": {},
   "outputs": [
    {
     "name": "stdout",
     "output_type": "stream",
     "text": [
      "<class 'pandas.core.frame.DataFrame'>\n",
      "RangeIndex: 310 entries, 0 to 309\n",
      "Data columns (total 9 columns):\n",
      " #   Column         Non-Null Count  Dtype \n",
      "---  ------         --------------  ----- \n",
      " 0   author         309 non-null    object\n",
      " 1   title          310 non-null    object\n",
      " 2   description    293 non-null    object\n",
      " 3   url            310 non-null    object\n",
      " 4   urlToImage     300 non-null    object\n",
      " 5   publishedAt    310 non-null    object\n",
      " 6   source         310 non-null    object\n",
      " 7   category       310 non-null    object\n",
      " 8   scraping_date  310 non-null    object\n",
      "dtypes: object(9)\n",
      "memory usage: 21.9+ KB\n"
     ]
    }
   ],
   "source": [
    "data.info()"
   ]
  },
  {
   "cell_type": "code",
   "execution_count": null,
   "id": "traditional-passport",
   "metadata": {},
   "outputs": [],
   "source": []
  }
 ],
 "metadata": {
  "kernelspec": {
   "display_name": "Python 3",
   "language": "python",
   "name": "python3"
  },
  "language_info": {
   "codemirror_mode": {
    "name": "ipython",
    "version": 3
   },
   "file_extension": ".py",
   "mimetype": "text/x-python",
   "name": "python",
   "nbconvert_exporter": "python",
   "pygments_lexer": "ipython3",
   "version": "3.9.1"
  }
 },
 "nbformat": 4,
 "nbformat_minor": 5
}
